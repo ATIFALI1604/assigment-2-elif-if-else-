{
 "cells": [
  {
   "cell_type": "markdown",
   "id": "65814561-4487-4a99-884a-bdfed1069097",
   "metadata": {},
   "source": [
    "# Qusetion # 1:"
   ]
  },
  {
   "cell_type": "code",
   "execution_count": 2,
   "id": "9f37a752-b4e5-42d2-b7ff-d828550267c5",
   "metadata": {},
   "outputs": [],
   "source": [
    "Number=24"
   ]
  },
  {
   "cell_type": "code",
   "execution_count": 3,
   "id": "ebf61ba1-5847-469c-9b8d-ccee006f7f42",
   "metadata": {},
   "outputs": [
    {
     "name": "stdout",
     "output_type": "stream",
     "text": [
      "Positive\n"
     ]
    }
   ],
   "source": [
    "if Number==+24:\n",
    "    print(\"Positive\")\n",
    "elif  Number==-24:\n",
    "    print(\"Negative\")\n",
    "else:\n",
    "    print(\"Zero\")"
   ]
  },
  {
   "cell_type": "markdown",
   "id": "b49e21c7-d420-405a-b64e-b833e454aaba",
   "metadata": {},
   "source": [
    "# Qusetion # 2:"
   ]
  },
  {
   "cell_type": "code",
   "execution_count": 5,
   "id": "a6b3a457-65ab-435d-b240-9de011bedd58",
   "metadata": {},
   "outputs": [],
   "source": [
    "year= 2024"
   ]
  },
  {
   "cell_type": "code",
   "execution_count": 6,
   "id": "1f0d250b-1b13-457e-b035-43e6793e95d5",
   "metadata": {},
   "outputs": [
    {
     "name": "stdout",
     "output_type": "stream",
     "text": [
      "Leap Year\n"
     ]
    }
   ],
   "source": [
    "if 2024/4 :\n",
    "    print(\"Leap Year\")\n",
    "else :\n",
    "    print(\"Year\")"
   ]
  },
  {
   "cell_type": "markdown",
   "id": "91a26e22-01cd-41a0-b4fe-ba4dae4e741a",
   "metadata": {},
   "source": [
    "# Qusetion # 3:"
   ]
  },
  {
   "cell_type": "code",
   "execution_count": 8,
   "id": "64ede211-6f7c-4cce-895c-58fb558e57e9",
   "metadata": {},
   "outputs": [],
   "source": [
    "mark=90"
   ]
  },
  {
   "cell_type": "code",
   "execution_count": 9,
   "id": "a1cf585b-ccc9-4c5e-8bbc-f68c96003cf2",
   "metadata": {},
   "outputs": [
    {
     "name": "stdout",
     "output_type": "stream",
     "text": [
      "A\n"
     ]
    }
   ],
   "source": [
    "if mark >=85:\n",
    "    print(\"A\")\n",
    "elif mark >=70:\n",
    "    print(\"B\")\n",
    "elif mark >=50:\n",
    "    print(\"C\")\n",
    "else :\n",
    "    print(\"D\")    "
   ]
  },
  {
   "cell_type": "code",
   "execution_count": null,
   "id": "faf707f0-cb72-4bf9-9bd7-5bfc663b5000",
   "metadata": {},
   "outputs": [],
   "source": []
  }
 ],
 "metadata": {
  "kernelspec": {
   "display_name": "Python [conda env:anaconda new]",
   "language": "python",
   "name": "conda-env-anaconda_new-py"
  },
  "language_info": {
   "codemirror_mode": {
    "name": "ipython",
    "version": 3
   },
   "file_extension": ".py",
   "mimetype": "text/x-python",
   "name": "python",
   "nbconvert_exporter": "python",
   "pygments_lexer": "ipython3",
   "version": "3.12.7"
  }
 },
 "nbformat": 4,
 "nbformat_minor": 5
}
